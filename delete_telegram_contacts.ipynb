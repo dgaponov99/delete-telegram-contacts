{
 "cells": [
  {
   "cell_type": "code",
   "execution_count": null,
   "metadata": {
    "collapsed": true
   },
   "outputs": [],
   "source": [
    "from telethon.sync import TelegramClient\n",
    "from telethon import functions\n",
    "\n",
    "# https://my.telegram.org.\n",
    "api_id = 'API_ID'\n",
    "api_hash = 'API_HASH'\n",
    "\n",
    "client = TelegramClient('current-session', api_id, api_hash)\n",
    "\n",
    "await client.start()"
   ]
  },
  {
   "cell_type": "code",
   "execution_count": null,
   "outputs": [],
   "source": [
    "result = await client(functions.contacts.GetContactsRequest(\n",
    "    hash=-12398745604826\n",
    "))\n",
    "\n",
    "print(result.stringify())\n",
    "contacts = result.contacts"
   ],
   "metadata": {
    "collapsed": false
   }
  },
  {
   "cell_type": "code",
   "execution_count": null,
   "outputs": [],
   "source": [
    "resultDel = await client(functions.contacts.DeleteContactsRequest(\n",
    "    id=list(map(lambda contact: contact.user_id, contacts))\n",
    "))\n",
    "print(resultDel.stringify())"
   ],
   "metadata": {
    "collapsed": false
   }
  }
 ],
 "metadata": {
  "kernelspec": {
   "display_name": "Python 3",
   "language": "python",
   "name": "python3"
  },
  "language_info": {
   "codemirror_mode": {
    "name": "ipython",
    "version": 2
   },
   "file_extension": ".py",
   "mimetype": "text/x-python",
   "name": "python",
   "nbconvert_exporter": "python",
   "pygments_lexer": "ipython2",
   "version": "2.7.6"
  }
 },
 "nbformat": 4,
 "nbformat_minor": 0
}
